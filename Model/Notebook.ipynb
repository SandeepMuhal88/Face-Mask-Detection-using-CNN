{
 "cells": [
  {
   "cell_type": "code",
   "execution_count": 20,
   "id": "de33f4fc",
   "metadata": {},
   "outputs": [],
   "source": [
    "# import kagglehub\n",
    "\n",
    "# # Download latest version\n",
    "# path = kagglehub.dataset_download(\"ashishjangra27/face-mask-12k-images-dataset\")\n",
    "\n",
    "# print(\"Path to dataset files:\", path)"
   ]
  },
  {
   "cell_type": "code",
   "execution_count": 21,
   "id": "0e2c3894",
   "metadata": {},
   "outputs": [],
   "source": [
    "# import os\n",
    "# print(\"There dictoryes in this file\",os.listdir(path))"
   ]
  },
  {
   "cell_type": "code",
   "execution_count": 22,
   "id": "7c091e95",
   "metadata": {},
   "outputs": [],
   "source": [
    "# image_dir=os.listdir(path)"
   ]
  },
  {
   "cell_type": "code",
   "execution_count": 23,
   "id": "34e16811",
   "metadata": {},
   "outputs": [],
   "source": [
    "# base_dir=os.path.join(path,'image_dir')"
   ]
  },
  {
   "cell_type": "code",
   "execution_count": 24,
   "id": "9bddebb1",
   "metadata": {},
   "outputs": [],
   "source": [
    "# base_dir"
   ]
  },
  {
   "cell_type": "markdown",
   "id": "a178cac0",
   "metadata": {},
   "source": [
    "Make Face Mask Detection Project Using CNN(Convluation Neural Network)"
   ]
  },
  {
   "cell_type": "code",
   "execution_count": 38,
   "id": "9bb4c4db",
   "metadata": {},
   "outputs": [],
   "source": [
    "# %pip install scikit-learn\n",
    "# %pip install kagglehub\n",
    "# %pip install kaggle\n",
    "# %pip install numpy\n",
    "# %pip install pandas\n",
    "# %pip install matplotlib\n",
    "# %pip install seaborn\n",
    "# %pip install tensorflow\n",
    "# %pip install keras\n",
    "# %pip install sklearn\n",
    "# %pip install opencv-python"
   ]
  },
  {
   "cell_type": "markdown",
   "id": "9c457996",
   "metadata": {},
   "source": [
    "2. Load Libraries"
   ]
  },
  {
   "cell_type": "code",
   "execution_count": 36,
   "id": "6eb1c910",
   "metadata": {},
   "outputs": [],
   "source": [
    "import os\n",
    "import cv2\n",
    "import numpy as np\n",
    "from tensorflow.keras.utils import to_categorical\n",
    "from sklearn.model_selection import train_test_split\n"
   ]
  },
  {
   "cell_type": "markdown",
   "id": "ffe81da7",
   "metadata": {},
   "source": [
    "3. Set parameters"
   ]
  },
  {
   "cell_type": "code",
   "execution_count": 39,
   "id": "a0132094",
   "metadata": {},
   "outputs": [],
   "source": [
    "IMG_SIZE=224\n",
    "# VGG ke liye standard size\n",
    "data=[]\n",
    "lable=[]"
   ]
  },
  {
   "cell_type": "markdown",
   "id": "1572b2dd",
   "metadata": {},
   "source": [
    "4. Read & Resize Images"
   ]
  },
  {
   "cell_type": "code",
   "execution_count": null,
   "id": "eebc4476",
   "metadata": {},
   "outputs": [],
   "source": [
    "# # \n",
    "\n",
    "# # dataset path\n",
    "# base_path = \"dataset\"\n",
    "\n",
    "# categories = [\"with_mask\", \"without_mask\"]\n",
    "\n",
    "# for category in categories:\n",
    "#     path = os.path.join(base_path, category)\n",
    "#     label = categories.index(category)   # with_mask -> 0, without_mask -> 1\n",
    "    \n",
    "#     for img_name in os.listdir(path):\n",
    "#         img_path = os.path.join(path, img_name)\n",
    "#         img = cv2.imread(img_path)\n",
    "        \n",
    "#         if img is not None:\n",
    "#             img = cv2.cvtColor(img, cv2.COLOR_BGR2RGB)   # BGR -> RGB\n",
    "#             img = cv2.resize(img, (IMG_SIZE, IMG_SIZE))  # resize\n",
    "#             data.append(img)\n",
    "#             labels.append(label)\n",
    "\n",
    "# data = np.array(data) / 255.0   # normalization (0–1 range)\n",
    "# labels = np.array(labels)\n",
    "\n"
   ]
  },
  {
   "cell_type": "code",
   "execution_count": null,
   "id": "c3f30292",
   "metadata": {},
   "outputs": [],
   "source": [
    "# X_train, X_test, y_train, y_test = train_test_split(\n",
    "#     data, labels, test_size=0.2, random_state=42, stratify=labels\n",
    "# )\n",
    "\n",
    "# print(\"Training data:\", X_train.shape)\n",
    "# print(\"Testing data:\", X_test.shape)\n"
   ]
  },
  {
   "cell_type": "code",
   "execution_count": 62,
   "id": "c5e5691d",
   "metadata": {},
   "outputs": [],
   "source": [
    "# I have Ornize form of the data\n",
    "\n",
    "from tensorflow.keras.preprocessing.image import ImageDataGenerator\n",
    "\n",
    "\n",
    "IMG_SIZE=224\n",
    "BATCH_SIZE=32\n",
    "# Data Augmentation for training (rotation, zoom, etc.)\n",
    "\n",
    "train_datagen=ImageDataGenerator(\n",
    "    rescale=1./255,\n",
    "    rotation_range=20,\n",
    "    width_shift_range=0.2,\n",
    "    height_shift_range=0.2,\n",
    "    shear_range=0.2,\n",
    "    zoom_range=0.2,\n",
    "    horizontal_flip=True,\n",
    "    fill_mode='nearest'\n",
    "    )\n",
    "\n",
    "# Validation & Test data ke liye sirf rescale\n",
    "val_datagen = ImageDataGenerator(rescale=1./255)\n",
    "test_datagen = ImageDataGenerator(rescale=1./255)\n",
    "\n",
    "\n"
   ]
  },
  {
   "cell_type": "markdown",
   "id": "e702121b",
   "metadata": {},
   "source": [
    "👉 Why?\n",
    "\n",
    "rescale=1./255 → Images ke pixel values (0–255) ko normalize karke (0–1) range mein le aata hai. Neural nets ke liye normalization zaruri hai.\n",
    "\n",
    "rotation_range=20 → Images ko randomly 20° tak rotate karta hai → model rotation ke against robust ho jata hai.\n",
    "\n",
    "zoom_range=0.2 → Random zoom apply hota hai → model zoomed faces pe bhi sahi predict karega.\n",
    "\n",
    "shear_range=0.2 → Random slant/shear effect deta hai → different face angles ke liye useful.\n",
    "\n",
    "horizontal_flip=True → Left-right mirror images banata hai → model left profile aur right profile dono pe kaam kare.\n",
    "\n",
    "💡 Train dataset mein augmentation isliye hoti hai, kyunki hume model ko zyada variations dikhane hain."
   ]
  },
  {
   "cell_type": "markdown",
   "id": "7d184d27",
   "metadata": {},
   "source": [
    "Training Generator"
   ]
  },
  {
   "cell_type": "code",
   "execution_count": 63,
   "id": "39b6ffba",
   "metadata": {},
   "outputs": [
    {
     "name": "stdout",
     "output_type": "stream",
     "text": [
      "Found 10000 images belonging to 2 classes.\n"
     ]
    }
   ],
   "source": [
    "train_Generator=train_datagen.flow_from_directory(\n",
    "    \"D:\\Project-to-learn\\Face_Mask_Detection_Model\\Data\\Train\",\n",
    "    target_size=(IMG_SIZE,IMG_SIZE),\n",
    "    batch_size=32,\n",
    "    class_mode=\"binary\"\n",
    ")"
   ]
  },
  {
   "cell_type": "code",
   "execution_count": 66,
   "id": "59dcc241",
   "metadata": {},
   "outputs": [
    {
     "name": "stdout",
     "output_type": "stream",
     "text": [
      "Found 800 images belonging to 2 classes.\n",
      "Found 992 images belonging to 2 classes.\n"
     ]
    }
   ],
   "source": [
    "#Validation Generator\n",
    "\n",
    "from random import shuffle\n",
    "\n",
    "\n",
    "val_Generator = train_datagen.flow_from_directory(\n",
    "    \"D:\\Project-to-learn\\Face_Mask_Detection_Model\\Data\\Validation\",\n",
    "    target_size = (IMG_SIZE, IMG_SIZE),\n",
    "    batch_size = 32,\n",
    "    class_mode = \"binary\"\n",
    ")\n",
    "\n",
    "#\n",
    "\n",
    "test_Generator = test_datagen.flow_from_directory(\n",
    "    \"D:\\Project-to-learn\\Face_Mask_Detection_Model\\Data\\Test\",\n",
    "    target_size = (IMG_SIZE, IMG_SIZE),\n",
    "    batch_size = 32,\n",
    "    class_mode = \"binary\",\n",
    "    shuffle = False\n",
    ")"
   ]
  }
 ],
 "metadata": {
  "kernelspec": {
   "display_name": ".machine",
   "language": "python",
   "name": "python3"
  },
  "language_info": {
   "codemirror_mode": {
    "name": "ipython",
    "version": 3
   },
   "file_extension": ".py",
   "mimetype": "text/x-python",
   "name": "python",
   "nbconvert_exporter": "python",
   "pygments_lexer": "ipython3",
   "version": "3.10.11"
  }
 },
 "nbformat": 4,
 "nbformat_minor": 5
}
